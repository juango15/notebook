{
  "nbformat": 4,
  "nbformat_minor": 0,
  "metadata": {
    "colab": {
      "provenance": [],
      "authorship_tag": "ABX9TyMbUu0z9pGBf/RgyLXwPE3a",
      "include_colab_link": true
    },
    "kernelspec": {
      "name": "python3",
      "display_name": "Python 3"
    },
    "language_info": {
      "name": "python"
    }
  },
  "cells": [
    {
      "cell_type": "markdown",
      "metadata": {
        "id": "view-in-github",
        "colab_type": "text"
      },
      "source": [
        "<a href=\"https://colab.research.google.com/github/juango15/notebook/blob/main/Untitled2.ipynb\" target=\"_parent\"><img src=\"https://colab.research.google.com/assets/colab-badge.svg\" alt=\"Open In Colab\"/></a>"
      ]
    },
    {
      "cell_type": "markdown",
      "source": [
        "#cuaderno de programacion"
      ],
      "metadata": {
        "id": "5IiyxAUf_kGS"
      }
    },
    {
      "cell_type": "markdown",
      "source": [
        "##condicionales"
      ],
      "metadata": {
        "id": "MMmyLzex_wE9"
      }
    },
    {
      "cell_type": "markdown",
      "source": [
        "###if"
      ],
      "metadata": {
        "id": "QS5p6qRV_5bc"
      }
    },
    {
      "cell_type": "markdown",
      "source": [
        "####ejercicio 1\n",
        "\n",
        "Escribe un programa que:\n",
        "\n",
        "Solicite al usuario que ingrese un número.\n",
        "Use una estructura condicional if para determinar si el número es positivo, negativo o cero.\n",
        "Imprima un mensaje apropiado basado en el resultado."
      ],
      "metadata": {
        "id": "4dCWudyE2cRG"
      }
    },
    {
      "cell_type": "code",
      "execution_count": 6,
      "metadata": {
        "colab": {
          "base_uri": "https://localhost:8080/"
        },
        "id": "t7n_Fssz2YTa",
        "outputId": "13702d1a-c3e6-4401-c09b-b01f5a5f7779"
      },
      "outputs": [
        {
          "output_type": "stream",
          "name": "stdout",
          "text": [
            "introdusca su edad\n",
            "12\n",
            "usted es menor de edad\n"
          ]
        }
      ],
      "source": [
        "print(\"introdusca su edad\")\n",
        "ed = int(input())\n",
        "\n",
        "if ed <= 18:\n",
        "  print(\"usted es menor de edad\")\n",
        "elif ed <= 0:\n",
        "  print:(\"edad invalida\")\n",
        "else:\n",
        "  print(\"usted es mayor de edad\")"
      ]
    },
    {
      "cell_type": "markdown",
      "source": [
        "####ejercicio 2\n",
        "\n",
        "Ejercicio: Calcular el precio final de un producto con descuento\n",
        "Un cliente compra un producto, pero dependiendo del precio, puede recibir un descuento. Escribe un programa que haga lo siguiente:\n",
        "\n",
        "Solicite al usuario el precio del producto.\n",
        "\n",
        "\n",
        "\n",
        "\n",
        "1. Si el precio es mayor a 100, aplica un descuento del 10%.\n",
        "2. Si el precio es menor o igual a 100 pero mayor a 50, aplica un descuento del 5%.\n",
        "3. Si el precio es menor o igual a 50, no se aplica descuento.\n",
        "Imprime el precio final después del descuento.\n",
        "\n",
        "\n",
        "\n",
        "\n",
        "\n",
        "\n",
        "\n"
      ],
      "metadata": {
        "id": "k_ixZnOCAQZ7"
      }
    },
    {
      "cell_type": "code",
      "source": [
        "pre = int(input(\"ingrese el precio del producto: \"))\n",
        "\n",
        "#calcular descuento\n",
        "if pre >= 10000:\n",
        "  des = (pre/100)*10\n",
        "elif pre >= 5000 and pre < 10000:\n",
        "  des = (pre/100)*5\n",
        "elif pre < 5000:\n",
        "  des = 0\n",
        "\n",
        "#calcular precio\n",
        "cob = pre - des\n",
        "\n",
        "#generacion de factura\n",
        "print(\"FACTURA\")\n",
        "print(\"precio:\", pre,\"COP\")\n",
        "print(\"descuento:\", des,\"COP\")\n",
        "print(\"el precio total es:\",cob,\"COP\")\n"
      ],
      "metadata": {
        "colab": {
          "base_uri": "https://localhost:8080/"
        },
        "id": "br1RqwYBA2kT",
        "outputId": "2dbedc87-29bc-4fd3-a191-56124c751a36"
      },
      "execution_count": 19,
      "outputs": [
        {
          "output_type": "stream",
          "name": "stdout",
          "text": [
            "ingrese el precio del producto: 3400\n",
            "FACTURA\n",
            "precio: 3400 COP\n",
            "descuento: 0 COP\n",
            "el precio total es: 3400 COP\n"
          ]
        }
      ]
    },
    {
      "cell_type": "markdown",
      "source": [
        "##generales"
      ],
      "metadata": {
        "id": "UtarftNGBoKF"
      }
    }
  ]
}