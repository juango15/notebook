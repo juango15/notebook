{
  "nbformat": 4,
  "nbformat_minor": 0,
  "metadata": {
    "colab": {
      "provenance": [],
      "authorship_tag": "ABX9TyNMVy25EIYhp9wJjwzkJ6te",
      "include_colab_link": true
    },
    "kernelspec": {
      "name": "python3",
      "display_name": "Python 3"
    },
    "language_info": {
      "name": "python"
    }
  },
  "cells": [
    {
      "cell_type": "markdown",
      "metadata": {
        "id": "view-in-github",
        "colab_type": "text"
      },
      "source": [
        "<a href=\"https://colab.research.google.com/github/juango15/notebook/blob/main/Untitled21.ipynb\" target=\"_parent\"><img src=\"https://colab.research.google.com/assets/colab-badge.svg\" alt=\"Open In Colab\"/></a>"
      ]
    },
    {
      "cell_type": "code",
      "execution_count": null,
      "metadata": {
        "id": "5EYElBZsfrbK"
      },
      "outputs": [],
      "source": [
        "import machine, network, time, urequests\n",
        "from machine import Pin, I2C\n",
        "\n",
        "from bmp280 import\n",
        "\n",
        "ssid = \"TU SSID\"\n",
        "password = \"TU PASSWORD\"\n",
        "\n",
        "sta = network.WLAN(network.STA_IF)\n",
        "sta.active(True)\n",
        "sta.connect(ssid, password)\n",
        "\n",
        "while sta.isconnected() == False:\n",
        "    pass\n",
        "\n",
        "url = \"https://api.thingspeak.com/update?api_key=TU API_KEY\"\n",
        "\n",
        "ultima_peticion = 0\n",
        "intervalo_peticiones = 30\n",
        "\n",
        "bus = I2C(1)\n",
        "sda = Pin(9)\n",
        "scl = Pin(10)\n",
        "\n",
        "bmp = BMP280(bus)\n",
        "\n",
        "def reconectar():\n",
        "    print('Fallo de conexión. Reconectando...')\n",
        "    time.sleep(10)\n",
        "    machine.reset()\n",
        "\n",
        "while True:\n",
        "    try:\n",
        "        if (time.time() - ultima_peticion) > intervalo_peticiones:\n",
        "            temperatura = bmp.temperature\n",
        "            presion = bmp.pressure\n",
        "\n",
        "            temp = round(temperatura, 1)\n",
        "            pres = round(presion/100, 1)\n",
        "\n",
        "            print(temperatura)\n",
        "            print(presion)\n",
        "\n",
        "            respuesta = urequests.get(url + \"&field1=\"+str(temp) + \"&field2=\" + str(pres))\n",
        "            print (\"Respuesta: \", str(respuesta.status_code))\n",
        "\n",
        "            respuesta.close()\n",
        "            ultima_peticion = time.time()\n",
        "\n",
        "    except OSError as e:\n",
        "        reconectar()\n",
        "\n"
      ]
    }
  ]
}