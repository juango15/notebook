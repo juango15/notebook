{
  "nbformat": 4,
  "nbformat_minor": 0,
  "metadata": {
    "colab": {
      "provenance": [],
      "authorship_tag": "ABX9TyO68ac0OWr6Ye+ADlLyD/cQ",
      "include_colab_link": true
    },
    "kernelspec": {
      "name": "python3",
      "display_name": "Python 3"
    },
    "language_info": {
      "name": "python"
    }
  },
  "cells": [
    {
      "cell_type": "markdown",
      "metadata": {
        "id": "view-in-github",
        "colab_type": "text"
      },
      "source": [
        "<a href=\"https://colab.research.google.com/github/juango15/notebook/blob/main/Untitled17.ipynb\" target=\"_parent\"><img src=\"https://colab.research.google.com/assets/colab-badge.svg\" alt=\"Open In Colab\"/></a>"
      ]
    },
    {
      "cell_type": "markdown",
      "source": [],
      "metadata": {
        "id": "WV9huUQt91vo"
      }
    },
    {
      "cell_type": "code",
      "execution_count": null,
      "metadata": {
        "id": "sJP6v8FF1niq"
      },
      "outputs": [],
      "source": [
        "import random\n",
        "import time\n",
        "from IPython.display import clear_output\n",
        "\n",
        "class Player:\n",
        "  def __init__(self, name):\n",
        "    self.name = name\n",
        "    self.points = 0\n",
        "  def add_points(self):\n",
        "    self.points += 1\n",
        "\n",
        "\n",
        "def main():\n",
        "  print(\"Bienvenido al juego de Cara o Sello\")\n",
        "  player_1_name = input(\"Ingese el nombre del primer jugador: \")\n",
        "  player_2_name = input(\"Ingese el nombre del segundo jugador: \")\n",
        "  player_1 = Player(player_1_name)\n",
        "  player_2 = Player(player_2_name)\n",
        "\n",
        "  time.sleep(1)\n",
        "  clear_output()\n",
        "\n",
        "  print(f\"{player_1.name} vs {player_2.name}\")\n",
        "  round = 1\n",
        "  while True:\n",
        "    current_player = random.randint(1, 2)\n",
        "    print(\"1. Cara\\n2. Sello\")\n",
        "    if current_player == 1:\n",
        "      player_1_choice = int(input(f\"{player_1.name}, ¿cara o sello?: \"))\n",
        "      if player_1_choice == 1:\n",
        "        player_2_choice = 2\n",
        "      else:\n",
        "        player_2_choice = 1\n",
        "    else:\n",
        "      player_2_choice = int(input(f\"{player_2.name}, ¿cara o sello?: \"))\n",
        "      if player_2_choice == 1:\n",
        "        player_1_choice = 2\n",
        "      else:\n",
        "        player_1_choice = 1\n",
        "\n",
        "    coin = random.randint(1, 2)\n",
        "    if coin == 1:\n",
        "      print(\"¡Cara!\")\n",
        "    else:\n",
        "      print(\"¡Sello!\")\n",
        "\n",
        "    if player_1_choice == coin:\n",
        "      player_1.add_points()\n",
        "    if player_2_choice == coin:\n",
        "      player_2.add_points()\n",
        "\n",
        "    print(f\"Puntos:\\n{player_1.name} --> {player_1.points}\\n{player_2.name} --> {player_2.points}\")\n",
        "    flag = input(\"Desea seguir jugando? (s/n): \")\n",
        "\n",
        "    time.sleep(1)\n",
        "    clear_output()\n",
        "\n",
        "    if flag == 'n':\n",
        "      print(f\"Puntacion:\\n{player_1.name} --> {player_1.points}\\n{player_2.name} --> {player_2.points}\")\n",
        "\n",
        "if __name__ == '__main__':\n",
        "  main()\n",
        "\n"
      ]
    },
    {
      "cell_type": "markdown",
      "source": [],
      "metadata": {
        "id": "AGKKJfHrj2aF"
      }
    },
    {
      "cell_type": "markdown",
      "source": [],
      "metadata": {
        "id": "kZjD6EMuj2eF"
      }
    },
    {
      "cell_type": "code",
      "source": [
        "import random\n",
        "import time\n",
        "from IPython.display import clear_output\n",
        "\n",
        "def lanzar():\n",
        "  face = random.choice([1, 2])\n",
        "  return face\n",
        "\n",
        "coin = lanzar()\n",
        "print(f\"1. cara \\n2. sello\")\n",
        "ans = input(\"elija una cara: \")\n",
        "\n",
        "if coin == 1\n",
        "  if ans == 1:\n",
        "    print(\"¡Muy bien! salio\", coin)\n",
        "  else:\n",
        "    print(\"la respuesta era\", coin)\n",
        "elif coin == 2:\n",
        "  if ans == 2:\n",
        "    print(\"¡Muy bien! salio\", coin)\n",
        "  else:\n",
        "    print(\"la respuesta era\", coin)\n",
        "else:\n",
        "  print(\"recuerda que cara es 1 y 2 es sello\")\n",
        "\n"
      ],
      "metadata": {
        "colab": {
          "base_uri": "https://localhost:8080/",
          "height": 106
        },
        "id": "Qybn-5oYZNdW",
        "outputId": "ff2c3ced-02d9-4f83-bf0f-d6b03ef560be"
      },
      "execution_count": 39,
      "outputs": [
        {
          "output_type": "error",
          "ename": "SyntaxError",
          "evalue": "expected ':' (<ipython-input-39-f33a636609e6>, line 13)",
          "traceback": [
            "\u001b[0;36m  File \u001b[0;32m\"<ipython-input-39-f33a636609e6>\"\u001b[0;36m, line \u001b[0;32m13\u001b[0m\n\u001b[0;31m    if coin == 1\u001b[0m\n\u001b[0m                ^\u001b[0m\n\u001b[0;31mSyntaxError\u001b[0m\u001b[0;31m:\u001b[0m expected ':'\n"
          ]
        }
      ]
    }
  ]
}